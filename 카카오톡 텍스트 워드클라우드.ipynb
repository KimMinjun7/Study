{
 "cells": [
  {
   "cell_type": "markdown",
   "id": "910a7acd",
   "metadata": {},
   "source": [
    "# 불러오기"
   ]
  },
  {
   "cell_type": "code",
   "execution_count": 3,
   "id": "eea3565e",
   "metadata": {},
   "outputs": [],
   "source": [
    "import numpy as np\n",
    "import pandas as pd\n",
    "pd.set_option('display.max_rows',10)"
   ]
  },
  {
   "cell_type": "code",
   "execution_count": 4,
   "id": "c2fbeb7d",
   "metadata": {},
   "outputs": [],
   "source": [
    "file = open('C:/Users/DS/Desktop/KakaoTalk_20220928_1338_46_357_group.txt','r',encoding='UTF8')"
   ]
  },
  {
   "cell_type": "code",
   "execution_count": 5,
   "id": "6038e2e3",
   "metadata": {},
   "outputs": [],
   "source": [
    "# while True:\n",
    "#     line = file.readline()\n",
    "#     if not line: \n",
    "#         break\n",
    "#     print(line)"
   ]
  },
  {
   "cell_type": "code",
   "execution_count": 6,
   "id": "9fc7ba7d",
   "metadata": {},
   "outputs": [
    {
     "name": "stdout",
     "output_type": "stream",
     "text": [
      " 12242\n",
      "익명] 3715\n",
      "익명] 2991\n",
      "익명] 1411\n",
      "익명] 1038\n"
     ]
    }
   ],
   "source": [
    "# Most Frequently Used Words\n",
    " \n",
    "import re\n",
    "from collections import Counter\n",
    " \n",
    "words = []\n",
    " \n",
    "with open(r'C:/Users/DS/Desktop/KakaoTalk_20220928_1338_46_357_group.txt', 'r', encoding='utf-8') as f:\n",
    "    for line in f:\n",
    "        m = re.search(r\"^\\[(.+\\]?)\\[\\w+.\\d\\d:\\d\\d\\]\\s*.+$\", line)\n",
    "        \n",
    "        \n",
    "        if m:\n",
    "            words.extend(re.split(r\"\\s+\", m.group(1)))\n",
    "\n",
    "for word, freq in Counter(words).most_common(5):\n",
    "    print(word,freq)\n",
    "#     print(\"{0:10s} : {1:3d}\".format(word, freq))"
   ]
  },
  {
   "cell_type": "markdown",
   "id": "f605b9f5",
   "metadata": {},
   "source": [
    "# 빈도"
   ]
  },
  {
   "cell_type": "code",
   "execution_count": 17,
   "id": "4c5c61f9",
   "metadata": {},
   "outputs": [],
   "source": [
    "import seaborn as sns\n",
    "import matplotlib.pyplot as plt"
   ]
  },
  {
   "cell_type": "code",
   "execution_count": 8,
   "id": "d120c289",
   "metadata": {},
   "outputs": [],
   "source": [
    "#words"
   ]
  },
  {
   "cell_type": "code",
   "execution_count": 18,
   "id": "66ec0566",
   "metadata": {},
   "outputs": [],
   "source": [
    "ddf = pd.DataFrame(words,columns=['Name']).value_counts().iloc[1:,]\n",
    "#ddf.plot()"
   ]
  },
  {
   "cell_type": "code",
   "execution_count": 19,
   "id": "ee8a500c",
   "metadata": {},
   "outputs": [],
   "source": [
    "dddf = pd.DataFrame(ddf)\n",
    "dddf.columns=[\"빈도\"]\n",
    "dddf[\"Name\"]=['유선','수연' ,'박현진', '동익','민진이', '효은', '박성호','Scott Kim','','김승주','양준영','정복균','박찬균','유진','김민준','소영','정우','노시열','Aiden','김용규', '애진', 'An','', '지혜','신우철','문보현','김지원']"
   ]
  },
  {
   "cell_type": "code",
   "execution_count": 20,
   "id": "a964097c",
   "metadata": {
    "scrolled": true
   },
   "outputs": [],
   "source": [
    "dddf.reset_index(drop=True,inplace=True)"
   ]
  },
  {
   "cell_type": "code",
   "execution_count": 21,
   "id": "8009b020",
   "metadata": {
    "scrolled": false
   },
   "outputs": [],
   "source": [
    "dddf.loc[(dddf[\"Name\"]==''),:].index\n",
    "dddf.drop(dddf.loc[(dddf[\"Name\"]==''),:].index, inplace=True)"
   ]
  },
  {
   "cell_type": "code",
   "execution_count": 14,
   "id": "db506199",
   "metadata": {
    "scrolled": true
   },
   "outputs": [],
   "source": [
    "# dddf"
   ]
  },
  {
   "cell_type": "code",
   "execution_count": 15,
   "id": "9f1661c0",
   "metadata": {},
   "outputs": [],
   "source": [
    "# dddf.set_index('Name',inplace=True)"
   ]
  },
  {
   "cell_type": "code",
   "execution_count": 22,
   "id": "99951311",
   "metadata": {},
   "outputs": [
    {
     "data": {
      "text/plain": [
       "Text(0.5, 1.0, '2022-08-08 ~ 2022-09-28 카카오톡 채팅 빈도수')"
      ]
     },
     "execution_count": 22,
     "metadata": {},
     "output_type": "execute_result"
    },
    {
     "data": {
      "image/png": "[encoded data removed]",
      "text/plain": [
       "<Figure size 1440x720 with 1 Axes>"
      ]
     },
     "metadata": {
      "needs_background": "light"
     },
     "output_type": "display_data"
    }
   ],
   "source": [
    "from matplotlib import font_manager, rc\n",
    "font_path = \"C:\\Windows\\Fonts\\malgunsl.ttf\"\n",
    "font = font_manager.FontProperties(fname=font_path).get_name()\n",
    "rc('font', family=font)\n",
    "plt.figure(figsize=(20,10))\n",
    "sns.barplot(data=dddf, x=\"Name\",y=\"빈도\")\n",
    "plt.title('2022-08-08 ~ 2022-09-28 카카오톡 채팅 빈도수')"
   ]
  },
  {
   "cell_type": "markdown",
   "id": "b23992f7",
   "metadata": {},
   "source": [
    "# 전처리 및 워드클라우드"
   ]
  },
  {
   "cell_type": "code",
   "execution_count": 23,
   "id": "ff005612",
   "metadata": {},
   "outputs": [],
   "source": [
    "# ㅋ,ㅎ 제거 안함\n",
    "text = \"\"\n",
    " \n",
    "with open(\"C:/Users/DS/Desktop/KakaoTalk_20220928_1338_46_357_group.txt\", 'r', encoding = \"utf-8\") as txt :\n",
    "    lines = txt.readlines()\n",
    "    for line in lines[4:] :\n",
    "        if '] [' in line :\n",
    "            text += ( line.split('] ')[2].replace('이모티콘\\n', \"\")\n",
    "            .replace(\"사진\\n\", \"\").replace('삭제된 메세지입니다.\\n', \"\").replace('ㅇ', '').replace(\"https://youtube.com/shorts/Rlh_ZFAyKyI?feature=share\", '').replace(\"https://youtube.com/shorts/Ydmgah4bV98?feature=share\", '').replace(\"http://snmfishing.com/room-h2.html14\", '') )\n",
    "        \n",
    "#print(text)"
   ]
  },
  {
   "cell_type": "code",
   "execution_count": 24,
   "id": "67cfbfc7",
   "metadata": {},
   "outputs": [],
   "source": [
    "# ㅋ,ㅎ 제거\n",
    "text = \"\"\n",
    " \n",
    "with open(\"C:/Users/DS/Desktop/KakaoTalk_20220928_1338_46_357_group.txt\", 'r', encoding = \"utf-8\") as txt :\n",
    "    lines = txt.readlines()\n",
    "    for line in lines[4:] :\n",
    "        if '] [' in line :\n",
    "            text += ( line.split('] ')[2].replace('이모티콘\\n', \"\")\n",
    "            .replace(\"사진\\n\", \"\").replace('ㅋ','').replace('ㅎ','').replace('ㅠ','').replace('ㅜ','').replace('https','').replace('삭제된 메세지입니다.\\n', \"\").replace('ㅇ', '').replace(\"https://youtube.com/shorts/Rlh_ZFAyKyI?feature=share\", '').replace(\"https://youtube.com/shorts/Ydmgah4bV98?feature=share\", '').replace(\"http://snmfishing.com/room-h2.html14\", '') )\n",
    "        \n",
    "#print(text)"
   ]
  },
  {
   "cell_type": "code",
   "execution_count": 25,
   "id": "c4d1d1a0",
   "metadata": {},
   "outputs": [
    {
     "data": {
      "text/plain": [
       "<wordcloud.wordcloud.WordCloud at 0x1fb47b22d90>"
      ]
     },
     "execution_count": 25,
     "metadata": {},
     "output_type": "execute_result"
    }
   ],
   "source": [
    "from wordcloud import WordCloud\n",
    " \n",
    "wc = WordCloud(font_path= \"C:\\Windows\\Fonts\\malgunsl.ttf\", background_color= \"white\", width = 600, height = 400)\n",
    "wc.generate(text) # 많이 나오는 텍스트를 서칭하고 정리하는 메서드\n",
    "wc.to_file(\"ㅋ제거.png\")"
   ]
  },
  {
   "cell_type": "code",
   "execution_count": 104,
   "id": "18d83cf4",
   "metadata": {},
   "outputs": [],
   "source": [
    "from PIL import Image"
   ]
  },
  {
   "cell_type": "code",
   "execution_count": 135,
   "id": "a050c547",
   "metadata": {},
   "outputs": [
    {
     "data": {
      "text/plain": [
       "<wordcloud.wordcloud.WordCloud at 0x15be33da760>"
      ]
     },
     "execution_count": 135,
     "metadata": {},
     "output_type": "execute_result"
    }
   ],
   "source": [
    "mask = np.array(Image.open('C:/Users/DS/Downloads/love2.png'))\n",
    "wc = WordCloud(font_path=\"C:\\Windows\\Fonts\\malgunsl.ttf\", background_color=\"white\",mask=mask,width = 600, height = 400)\n",
    "wc.generate(text)\n",
    "wc.to_file(\"ㅋ제거 안함.png\")"
   ]
  }
 ],
 "metadata": {
  "kernelspec": {
   "display_name": "Python 3 (ipykernel)",
   "language": "python",
   "name": "python3"
  },
  "language_info": {
   "codemirror_mode": {
    "name": "ipython",
    "version": 3
   },
   "file_extension": ".py",
   "mimetype": "text/x-python",
   "name": "python",
   "nbconvert_exporter": "python",
   "pygments_lexer": "ipython3",
   "version": "3.9.7"
  }
 },
 "nbformat": 4,
 "nbformat_minor": 5
}
