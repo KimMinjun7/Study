{
 "cells": [
  {
   "cell_type": "code",
   "execution_count": 8,
   "metadata": {},
   "outputs": [],
   "source": [
    "import tensorflow as tf\n",
    "import sys\n",
    "import numpy as np # 데이터분석용 패키지\n",
    "import pandas as pd # 데이터분석용 패키지\n",
    "import matplotlib as mpl # 데이터분석용 패키지\n",
    "import matplotlib.pyplot as plt\n",
    "import seaborn as sns\n",
    "\n",
    "import matplotlib.font_manager as fm\n",
    "font_name = fm.FontProperties(fname=\"C:/Windows/Fonts/malgun.ttf\").get_name()\n",
    "plt.rc('font', family=font_name)\n",
    "\n",
    "mpl.rcParams[\"axes.unicode_minus\"] = False\n",
    "\n",
    "from sklearn.model_selection import train_test_split\n",
    "\n",
    "import mglearn"
   ]
  },
  {
   "cell_type": "code",
   "execution_count": 2,
   "metadata": {
    "collapsed": true
   },
   "outputs": [
    {
     "name": "stdout",
     "output_type": "stream",
     "text": [
      "Requirement already satisfied: tensorflow==1.15.0 in c:\\users\\asus\\anaconda3\\envs\\tf1\\lib\\site-packages (1.15.0)\n",
      "Collecting as\n",
      "  Downloading as-0.1-py3-none-any.whl (2.2 kB)\n",
      "Collecting tf\n",
      "  Downloading tf-1.0.0.tar.gz (620 bytes)\n",
      "Requirement already satisfied: absl-py>=0.7.0 in c:\\users\\asus\\anaconda3\\envs\\tf1\\lib\\site-packages (from tensorflow==1.15.0) (0.12.0)\n",
      "Requirement already satisfied: protobuf>=3.6.1 in c:\\users\\asus\\anaconda3\\envs\\tf1\\lib\\site-packages (from tensorflow==1.15.0) (3.15.8)\n",
      "Requirement already satisfied: astor>=0.6.0 in c:\\users\\asus\\anaconda3\\envs\\tf1\\lib\\site-packages (from tensorflow==1.15.0) (0.8.1)\n",
      "Requirement already satisfied: keras-preprocessing>=1.0.5 in c:\\users\\asus\\anaconda3\\envs\\tf1\\lib\\site-packages (from tensorflow==1.15.0) (1.1.2)\n",
      "Requirement already satisfied: tensorboard<1.16.0,>=1.15.0 in c:\\users\\asus\\anaconda3\\envs\\tf1\\lib\\site-packages (from tensorflow==1.15.0) (1.15.0)\n",
      "Requirement already satisfied: six>=1.10.0 in c:\\users\\asus\\anaconda3\\envs\\tf1\\lib\\site-packages (from tensorflow==1.15.0) (1.15.0)\n",
      "Requirement already satisfied: tensorflow-estimator==1.15.1 in c:\\users\\asus\\anaconda3\\envs\\tf1\\lib\\site-packages (from tensorflow==1.15.0) (1.15.1)\n",
      "Requirement already satisfied: google-pasta>=0.1.6 in c:\\users\\asus\\anaconda3\\envs\\tf1\\lib\\site-packages (from tensorflow==1.15.0) (0.2.0)\n",
      "Requirement already satisfied: termcolor>=1.1.0 in c:\\users\\asus\\anaconda3\\envs\\tf1\\lib\\site-packages (from tensorflow==1.15.0) (1.1.0)\n",
      "Requirement already satisfied: gast==0.2.2 in c:\\users\\asus\\anaconda3\\envs\\tf1\\lib\\site-packages (from tensorflow==1.15.0) (0.2.2)\n",
      "Requirement already satisfied: keras-applications>=1.0.8 in c:\\users\\asus\\anaconda3\\envs\\tf1\\lib\\site-packages (from tensorflow==1.15.0) (1.0.8)\n",
      "Requirement already satisfied: wrapt>=1.11.1 in c:\\users\\asus\\anaconda3\\envs\\tf1\\lib\\site-packages (from tensorflow==1.15.0) (1.11.2)\n",
      "Requirement already satisfied: opt-einsum>=2.3.2 in c:\\users\\asus\\anaconda3\\envs\\tf1\\lib\\site-packages (from tensorflow==1.15.0) (3.3.0)\n",
      "Requirement already satisfied: numpy<2.0,>=1.16.0 in c:\\users\\asus\\anaconda3\\envs\\tf1\\lib\\site-packages (from tensorflow==1.15.0) (1.17.0)\n",
      "Requirement already satisfied: grpcio>=1.8.6 in c:\\users\\asus\\anaconda3\\envs\\tf1\\lib\\site-packages (from tensorflow==1.15.0) (1.37.0)\n",
      "Requirement already satisfied: wheel>=0.26 in c:\\users\\asus\\anaconda3\\envs\\tf1\\lib\\site-packages (from tensorflow==1.15.0) (0.35.1)\n",
      "Requirement already satisfied: markdown>=2.6.8 in c:\\users\\asus\\anaconda3\\envs\\tf1\\lib\\site-packages (from tensorboard<1.16.0,>=1.15.0->tensorflow==1.15.0) (3.3.4)\n",
      "Requirement already satisfied: setuptools>=41.0.0 in c:\\users\\asus\\anaconda3\\envs\\tf1\\lib\\site-packages (from tensorboard<1.16.0,>=1.15.0->tensorflow==1.15.0) (50.3.1.post20201107)\n",
      "Requirement already satisfied: werkzeug>=0.11.15 in c:\\users\\asus\\anaconda3\\envs\\tf1\\lib\\site-packages (from tensorboard<1.16.0,>=1.15.0->tensorflow==1.15.0) (1.0.1)\n",
      "Requirement already satisfied: h5py in c:\\users\\asus\\anaconda3\\envs\\tf1\\lib\\site-packages (from keras-applications>=1.0.8->tensorflow==1.15.0) (2.10.0)\n",
      "Requirement already satisfied: importlib-metadata; python_version < \"3.8\" in c:\\users\\asus\\anaconda3\\envs\\tf1\\lib\\site-packages (from markdown>=2.6.8->tensorboard<1.16.0,>=1.15.0->tensorflow==1.15.0) (2.0.0)\n",
      "Requirement already satisfied: zipp>=0.5 in c:\\users\\asus\\anaconda3\\envs\\tf1\\lib\\site-packages (from importlib-metadata; python_version < \"3.8\"->markdown>=2.6.8->tensorboard<1.16.0,>=1.15.0->tensorflow==1.15.0) (3.4.0)\n",
      "Building wheels for collected packages: tf\n",
      "  Building wheel for tf (setup.py): started\n",
      "  Building wheel for tf (setup.py): finished with status 'done'\n",
      "  Created wheel for tf: filename=tf-1.0.0-py3-none-any.whl size=1290 sha256=d7d3433e1dadd7999d4f82c8008fd46b77ca5ecfcb81c60b6d6c87a556113634\n",
      "  Stored in directory: c:\\users\\asus\\appdata\\local\\pip\\cache\\wheels\\db\\c7\\58\\cca67875b41ff853d3fdaa20b54a780ef2e045fbcacaef1ee3\n",
      "Successfully built tf\n",
      "Installing collected packages: as, tf\n",
      "Successfully installed as-0.1 tf-1.0.0\n",
      "Note: you may need to restart the kernel to use updated packages.\n"
     ]
    }
   ],
   "source": [
    "# pip install tensorflow==1.15.0"
   ]
  },
  {
   "cell_type": "code",
   "execution_count": 5,
   "metadata": {
    "collapsed": true
   },
   "outputs": [
    {
     "name": "stdout",
     "output_type": "stream",
     "text": [
      "Collecting mglearn\n",
      "  Downloading mglearn-0.1.9.tar.gz (540 kB)\n",
      "Requirement already satisfied: numpy in c:\\users\\asus\\anaconda3\\envs\\tf1\\lib\\site-packages (from mglearn) (1.17.0)\n",
      "Requirement already satisfied: matplotlib in c:\\users\\asus\\anaconda3\\envs\\tf1\\lib\\site-packages (from mglearn) (3.3.2)\n",
      "Requirement already satisfied: scikit-learn in c:\\users\\asus\\anaconda3\\envs\\tf1\\lib\\site-packages (from mglearn) (0.23.2)\n",
      "Requirement already satisfied: pandas in c:\\users\\asus\\anaconda3\\envs\\tf1\\lib\\site-packages (from mglearn) (1.1.3)\n",
      "Requirement already satisfied: pillow in c:\\users\\asus\\anaconda3\\envs\\tf1\\lib\\site-packages (from mglearn) (8.0.1)\n",
      "Requirement already satisfied: cycler in c:\\users\\asus\\anaconda3\\envs\\tf1\\lib\\site-packages (from mglearn) (0.10.0)\n",
      "Requirement already satisfied: imageio in c:\\users\\asus\\anaconda3\\envs\\tf1\\lib\\site-packages (from mglearn) (2.9.0)\n",
      "Requirement already satisfied: joblib in c:\\users\\asus\\anaconda3\\envs\\tf1\\lib\\site-packages (from mglearn) (0.17.0)\n",
      "Requirement already satisfied: python-dateutil>=2.1 in c:\\users\\asus\\anaconda3\\envs\\tf1\\lib\\site-packages (from matplotlib->mglearn) (2.8.1)\n",
      "Requirement already satisfied: pyparsing!=2.0.4,!=2.1.2,!=2.1.6,>=2.0.3 in c:\\users\\asus\\anaconda3\\envs\\tf1\\lib\\site-packages (from matplotlib->mglearn) (2.4.7)\n",
      "Requirement already satisfied: certifi>=2020.06.20 in c:\\users\\asus\\anaconda3\\envs\\tf1\\lib\\site-packages (from matplotlib->mglearn) (2020.6.20)\n",
      "Requirement already satisfied: kiwisolver>=1.0.1 in c:\\users\\asus\\anaconda3\\envs\\tf1\\lib\\site-packages (from matplotlib->mglearn) (1.3.0)\n",
      "Requirement already satisfied: threadpoolctl>=2.0.0 in c:\\users\\asus\\anaconda3\\envs\\tf1\\lib\\site-packages (from scikit-learn->mglearn) (2.1.0)\n",
      "Requirement already satisfied: scipy>=0.19.1 in c:\\users\\asus\\anaconda3\\envs\\tf1\\lib\\site-packages (from scikit-learn->mglearn) (1.5.2)\n",
      "Requirement already satisfied: pytz>=2017.2 in c:\\users\\asus\\anaconda3\\envs\\tf1\\lib\\site-packages (from pandas->mglearn) (2020.1)\n",
      "Requirement already satisfied: six in c:\\users\\asus\\anaconda3\\envs\\tf1\\lib\\site-packages (from cycler->mglearn) (1.15.0)\n",
      "Building wheels for collected packages: mglearn\n",
      "  Building wheel for mglearn (setup.py): started\n",
      "  Building wheel for mglearn (setup.py): finished with status 'done'\n",
      "  Created wheel for mglearn: filename=mglearn-0.1.9-py2.py3-none-any.whl size=582645 sha256=a045ba9ab5866faad657b40ad68a01e4444a86499292e4136842b616661a368f\n",
      "  Stored in directory: c:\\users\\asus\\appdata\\local\\pip\\cache\\wheels\\f1\\17\\e1\\1720d6dcd70187b6b6c3750cb3508798f2b1d57c9d3214b08b\n",
      "Successfully built mglearn\n",
      "Installing collected packages: mglearn\n",
      "Successfully installed mglearn-0.1.9\n",
      "Note: you may need to restart the kernel to use updated packages.\n"
     ]
    }
   ],
   "source": [
    "# pip install mglearn"
   ]
  },
  {
   "cell_type": "code",
   "execution_count": 9,
   "metadata": {},
   "outputs": [
    {
     "name": "stdout",
     "output_type": "stream",
     "text": [
      "0 13454489000.0 [10371.862] [2078.877]\n",
      "500 8687759.0 [25537.28] [1951.3927]\n",
      "1000 8633826.0 [25627.47] [1504.761]\n",
      "1500 8632674.0 [25640.615] [1439.679]\n",
      "2000 8632649.0 [25642.531] [1430.189]\n",
      "2500 8632654.0 [25642.805] [1428.82]\n",
      "3000 8632656.0 [25642.844] [1428.633]\n"
     ]
    }
   ],
   "source": [
    "# 아래의 데이터를 가지고 하루 시간을 일했을 때 매출액이 얼마인지 예측하시오.\n",
    "x_data = [1,2,3,4,5,6,7]\n",
    "y_data = [25000, 55000, 75000, 110000, 128000, 155000, 180000]\n",
    "\n",
    "# 데이터 준비\n",
    "X = tf.placeholder(tf.float32, shape=[None])\n",
    "y = tf.placeholder(tf.float32, shape=[None])\n",
    "\n",
    "W = tf.Variable(tf.random_normal([1]), dtype = tf.float32, name=\"Weight\")\n",
    "b = tf.Variable(tf.random_normal([1]), dtype = tf.float32, name=\"bias\")\n",
    "\n",
    "# 가설 준비\n",
    "hypot = W * X + b\n",
    "\n",
    "# 비용 함수\n",
    "cost = tf.reduce_mean(tf.square(hypot - y))\n",
    "\n",
    "# 최저 비용 학습을 위한 경사 하강 알고리즘(Gradient Descent)\n",
    "optimizer = tf.train.GradientDescentOptimizer(learning_rate=0.01)\n",
    "train = optimizer.minimize(cost)\n",
    "\n",
    "############### Graph 작업 완료\n",
    "\n",
    "sess = tf.Session()\n",
    "sess.run(tf.global_variables_initializer())\n",
    "\n",
    "for step in range(3001):\n",
    "    _, c, weight, bias = sess.run([train, cost, W, b],\n",
    "                                 feed_dict={X:x_data, y:y_data})\n",
    "    \n",
    "    if step % 500 == 0:\n",
    "        print(step, c, weight, bias)"
   ]
  }
 ],
 "metadata": {
  "kernelspec": {
   "display_name": "Python 3",
   "language": "python",
   "name": "python3"
  },
  "language_info": {
   "codemirror_mode": {
    "name": "ipython",
    "version": 3
   },
   "file_extension": ".py",
   "mimetype": "text/x-python",
   "name": "python",
   "nbconvert_exporter": "python",
   "pygments_lexer": "ipython3",
   "version": "3.8.5"
  }
 },
 "nbformat": 4,
 "nbformat_minor": 4
}
